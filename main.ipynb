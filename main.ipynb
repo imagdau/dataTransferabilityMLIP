{
 "cells": [
  {
   "cell_type": "markdown",
   "metadata": {},
   "source": [
    "# Definitions"
   ]
  },
  {
   "cell_type": "code",
   "execution_count": 1,
   "metadata": {},
   "outputs": [],
   "source": [
    "from zenodoExplorer.zenexp  import ze\n",
    "\n",
    "recIDs = [10835267, 10890165]\n",
    "with open(\"api.key\", \"r\") as keyFile:\n",
    "    ACCESS_TOKEN = keyFile.readline().rstrip()\n",
    "\n",
    "ze = ze(ACCESS_TOKEN, recIDs)"
   ]
  },
  {
   "cell_type": "code",
   "execution_count": 2,
   "metadata": {},
   "outputs": [
    {
     "data": {
      "application/vnd.plotly.v1+json": {
       "config": {
        "plotlyServerURL": "https://plot.ly"
       },
       "data": [
        {
         "arrangement": "snap",
         "link": {
          "source": [
           0,
           0,
           1,
           1,
           1,
           1,
           2,
           3,
           4,
           5,
           6,
           6,
           7
          ],
          "target": [
           1,
           2,
           3,
           4,
           6,
           7,
           5,
           8,
           9,
           10,
           12,
           13,
           11
          ],
          "value": [
           1,
           1,
           1,
           1,
           1,
           1,
           1,
           1,
           1,
           1,
           1,
           1,
           1
          ]
         },
         "node": {
          "customdata": [
           "ac1@10835267",
           "td1@10835267",
           "td1@10890165",
           "ml2@10835267",
           "ml1@10890165",
           "ml2@10890165",
           "ml3@10890165",
           "ml4@10890165",
           "md1@10890165",
           "md2@10890165",
           "md3@10890165",
           "md4@10890165",
           "md5@10890165",
           "md6@10890165"
          ],
          "hovertemplate": "%{customdata}",
          "label": [
           "IBM23",
           "CASTEP/PBE-D2",
           "CASTEP (ASE+LAMMPS)/PBE-D2 (-fixed charge baseline)",
           "GAP/DTS, Rcut 3/6",
           "GAP/DTS, Rcut 3/6 (seeds 1,2,3)",
           "GAP/DTS, Rcut 3/6",
           "MACE/Layers 2, Rcut 4+4",
           "MACE/Layers 2, Rcut 6+6",
           "33% EC:EMC (seeds 1,2,3)/NPT, NVT/500 K",
           "33% EC:EMC/NPT, NVT/500 K",
           "33% EC:EMC (seeds 1,2,3)/NPT, NVT/500 K",
           "33% EC:EMC/NPT, NVT/500 K",
           "33% EC:EMC/NPT, NVT/500 K",
           "33% EC:EMC (seeds 1,2,3)/NPT, NVT/500 K"
          ],
          "line": {
           "color": "black",
           "width": 0.5
          },
          "pad": 15,
          "thickness": 15,
          "x": [
           0.01,
           0.1,
           0.1,
           0.3,
           0.3,
           0.3,
           0.3,
           0.3,
           0.99,
           0.99,
           0.99,
           0.99,
           0.99,
           0.99
          ],
          "y": [
           0.1,
           0.1,
           0.5,
           0.1,
           0.26,
           0.42000000000000004,
           0.58,
           0.74,
           0.1,
           0.23333333333333334,
           0.3666666666666667,
           0.5,
           0.6333333333333333,
           0.7666666666666666
          ]
         },
         "type": "sankey"
        }
       ],
       "layout": {
        "template": {
         "data": {
          "bar": [
           {
            "error_x": {
             "color": "#2a3f5f"
            },
            "error_y": {
             "color": "#2a3f5f"
            },
            "marker": {
             "line": {
              "color": "#E5ECF6",
              "width": 0.5
             },
             "pattern": {
              "fillmode": "overlay",
              "size": 10,
              "solidity": 0.2
             }
            },
            "type": "bar"
           }
          ],
          "barpolar": [
           {
            "marker": {
             "line": {
              "color": "#E5ECF6",
              "width": 0.5
             },
             "pattern": {
              "fillmode": "overlay",
              "size": 10,
              "solidity": 0.2
             }
            },
            "type": "barpolar"
           }
          ],
          "carpet": [
           {
            "aaxis": {
             "endlinecolor": "#2a3f5f",
             "gridcolor": "white",
             "linecolor": "white",
             "minorgridcolor": "white",
             "startlinecolor": "#2a3f5f"
            },
            "baxis": {
             "endlinecolor": "#2a3f5f",
             "gridcolor": "white",
             "linecolor": "white",
             "minorgridcolor": "white",
             "startlinecolor": "#2a3f5f"
            },
            "type": "carpet"
           }
          ],
          "choropleth": [
           {
            "colorbar": {
             "outlinewidth": 0,
             "ticks": ""
            },
            "type": "choropleth"
           }
          ],
          "contour": [
           {
            "colorbar": {
             "outlinewidth": 0,
             "ticks": ""
            },
            "colorscale": [
             [
              0,
              "#0d0887"
             ],
             [
              0.1111111111111111,
              "#46039f"
             ],
             [
              0.2222222222222222,
              "#7201a8"
             ],
             [
              0.3333333333333333,
              "#9c179e"
             ],
             [
              0.4444444444444444,
              "#bd3786"
             ],
             [
              0.5555555555555556,
              "#d8576b"
             ],
             [
              0.6666666666666666,
              "#ed7953"
             ],
             [
              0.7777777777777778,
              "#fb9f3a"
             ],
             [
              0.8888888888888888,
              "#fdca26"
             ],
             [
              1,
              "#f0f921"
             ]
            ],
            "type": "contour"
           }
          ],
          "contourcarpet": [
           {
            "colorbar": {
             "outlinewidth": 0,
             "ticks": ""
            },
            "type": "contourcarpet"
           }
          ],
          "heatmap": [
           {
            "colorbar": {
             "outlinewidth": 0,
             "ticks": ""
            },
            "colorscale": [
             [
              0,
              "#0d0887"
             ],
             [
              0.1111111111111111,
              "#46039f"
             ],
             [
              0.2222222222222222,
              "#7201a8"
             ],
             [
              0.3333333333333333,
              "#9c179e"
             ],
             [
              0.4444444444444444,
              "#bd3786"
             ],
             [
              0.5555555555555556,
              "#d8576b"
             ],
             [
              0.6666666666666666,
              "#ed7953"
             ],
             [
              0.7777777777777778,
              "#fb9f3a"
             ],
             [
              0.8888888888888888,
              "#fdca26"
             ],
             [
              1,
              "#f0f921"
             ]
            ],
            "type": "heatmap"
           }
          ],
          "heatmapgl": [
           {
            "colorbar": {
             "outlinewidth": 0,
             "ticks": ""
            },
            "colorscale": [
             [
              0,
              "#0d0887"
             ],
             [
              0.1111111111111111,
              "#46039f"
             ],
             [
              0.2222222222222222,
              "#7201a8"
             ],
             [
              0.3333333333333333,
              "#9c179e"
             ],
             [
              0.4444444444444444,
              "#bd3786"
             ],
             [
              0.5555555555555556,
              "#d8576b"
             ],
             [
              0.6666666666666666,
              "#ed7953"
             ],
             [
              0.7777777777777778,
              "#fb9f3a"
             ],
             [
              0.8888888888888888,
              "#fdca26"
             ],
             [
              1,
              "#f0f921"
             ]
            ],
            "type": "heatmapgl"
           }
          ],
          "histogram": [
           {
            "marker": {
             "pattern": {
              "fillmode": "overlay",
              "size": 10,
              "solidity": 0.2
             }
            },
            "type": "histogram"
           }
          ],
          "histogram2d": [
           {
            "colorbar": {
             "outlinewidth": 0,
             "ticks": ""
            },
            "colorscale": [
             [
              0,
              "#0d0887"
             ],
             [
              0.1111111111111111,
              "#46039f"
             ],
             [
              0.2222222222222222,
              "#7201a8"
             ],
             [
              0.3333333333333333,
              "#9c179e"
             ],
             [
              0.4444444444444444,
              "#bd3786"
             ],
             [
              0.5555555555555556,
              "#d8576b"
             ],
             [
              0.6666666666666666,
              "#ed7953"
             ],
             [
              0.7777777777777778,
              "#fb9f3a"
             ],
             [
              0.8888888888888888,
              "#fdca26"
             ],
             [
              1,
              "#f0f921"
             ]
            ],
            "type": "histogram2d"
           }
          ],
          "histogram2dcontour": [
           {
            "colorbar": {
             "outlinewidth": 0,
             "ticks": ""
            },
            "colorscale": [
             [
              0,
              "#0d0887"
             ],
             [
              0.1111111111111111,
              "#46039f"
             ],
             [
              0.2222222222222222,
              "#7201a8"
             ],
             [
              0.3333333333333333,
              "#9c179e"
             ],
             [
              0.4444444444444444,
              "#bd3786"
             ],
             [
              0.5555555555555556,
              "#d8576b"
             ],
             [
              0.6666666666666666,
              "#ed7953"
             ],
             [
              0.7777777777777778,
              "#fb9f3a"
             ],
             [
              0.8888888888888888,
              "#fdca26"
             ],
             [
              1,
              "#f0f921"
             ]
            ],
            "type": "histogram2dcontour"
           }
          ],
          "mesh3d": [
           {
            "colorbar": {
             "outlinewidth": 0,
             "ticks": ""
            },
            "type": "mesh3d"
           }
          ],
          "parcoords": [
           {
            "line": {
             "colorbar": {
              "outlinewidth": 0,
              "ticks": ""
             }
            },
            "type": "parcoords"
           }
          ],
          "pie": [
           {
            "automargin": true,
            "type": "pie"
           }
          ],
          "scatter": [
           {
            "fillpattern": {
             "fillmode": "overlay",
             "size": 10,
             "solidity": 0.2
            },
            "type": "scatter"
           }
          ],
          "scatter3d": [
           {
            "line": {
             "colorbar": {
              "outlinewidth": 0,
              "ticks": ""
             }
            },
            "marker": {
             "colorbar": {
              "outlinewidth": 0,
              "ticks": ""
             }
            },
            "type": "scatter3d"
           }
          ],
          "scattercarpet": [
           {
            "marker": {
             "colorbar": {
              "outlinewidth": 0,
              "ticks": ""
             }
            },
            "type": "scattercarpet"
           }
          ],
          "scattergeo": [
           {
            "marker": {
             "colorbar": {
              "outlinewidth": 0,
              "ticks": ""
             }
            },
            "type": "scattergeo"
           }
          ],
          "scattergl": [
           {
            "marker": {
             "colorbar": {
              "outlinewidth": 0,
              "ticks": ""
             }
            },
            "type": "scattergl"
           }
          ],
          "scattermapbox": [
           {
            "marker": {
             "colorbar": {
              "outlinewidth": 0,
              "ticks": ""
             }
            },
            "type": "scattermapbox"
           }
          ],
          "scatterpolar": [
           {
            "marker": {
             "colorbar": {
              "outlinewidth": 0,
              "ticks": ""
             }
            },
            "type": "scatterpolar"
           }
          ],
          "scatterpolargl": [
           {
            "marker": {
             "colorbar": {
              "outlinewidth": 0,
              "ticks": ""
             }
            },
            "type": "scatterpolargl"
           }
          ],
          "scatterternary": [
           {
            "marker": {
             "colorbar": {
              "outlinewidth": 0,
              "ticks": ""
             }
            },
            "type": "scatterternary"
           }
          ],
          "surface": [
           {
            "colorbar": {
             "outlinewidth": 0,
             "ticks": ""
            },
            "colorscale": [
             [
              0,
              "#0d0887"
             ],
             [
              0.1111111111111111,
              "#46039f"
             ],
             [
              0.2222222222222222,
              "#7201a8"
             ],
             [
              0.3333333333333333,
              "#9c179e"
             ],
             [
              0.4444444444444444,
              "#bd3786"
             ],
             [
              0.5555555555555556,
              "#d8576b"
             ],
             [
              0.6666666666666666,
              "#ed7953"
             ],
             [
              0.7777777777777778,
              "#fb9f3a"
             ],
             [
              0.8888888888888888,
              "#fdca26"
             ],
             [
              1,
              "#f0f921"
             ]
            ],
            "type": "surface"
           }
          ],
          "table": [
           {
            "cells": {
             "fill": {
              "color": "#EBF0F8"
             },
             "line": {
              "color": "white"
             }
            },
            "header": {
             "fill": {
              "color": "#C8D4E3"
             },
             "line": {
              "color": "white"
             }
            },
            "type": "table"
           }
          ]
         },
         "layout": {
          "annotationdefaults": {
           "arrowcolor": "#2a3f5f",
           "arrowhead": 0,
           "arrowwidth": 1
          },
          "autotypenumbers": "strict",
          "coloraxis": {
           "colorbar": {
            "outlinewidth": 0,
            "ticks": ""
           }
          },
          "colorscale": {
           "diverging": [
            [
             0,
             "#8e0152"
            ],
            [
             0.1,
             "#c51b7d"
            ],
            [
             0.2,
             "#de77ae"
            ],
            [
             0.3,
             "#f1b6da"
            ],
            [
             0.4,
             "#fde0ef"
            ],
            [
             0.5,
             "#f7f7f7"
            ],
            [
             0.6,
             "#e6f5d0"
            ],
            [
             0.7,
             "#b8e186"
            ],
            [
             0.8,
             "#7fbc41"
            ],
            [
             0.9,
             "#4d9221"
            ],
            [
             1,
             "#276419"
            ]
           ],
           "sequential": [
            [
             0,
             "#0d0887"
            ],
            [
             0.1111111111111111,
             "#46039f"
            ],
            [
             0.2222222222222222,
             "#7201a8"
            ],
            [
             0.3333333333333333,
             "#9c179e"
            ],
            [
             0.4444444444444444,
             "#bd3786"
            ],
            [
             0.5555555555555556,
             "#d8576b"
            ],
            [
             0.6666666666666666,
             "#ed7953"
            ],
            [
             0.7777777777777778,
             "#fb9f3a"
            ],
            [
             0.8888888888888888,
             "#fdca26"
            ],
            [
             1,
             "#f0f921"
            ]
           ],
           "sequentialminus": [
            [
             0,
             "#0d0887"
            ],
            [
             0.1111111111111111,
             "#46039f"
            ],
            [
             0.2222222222222222,
             "#7201a8"
            ],
            [
             0.3333333333333333,
             "#9c179e"
            ],
            [
             0.4444444444444444,
             "#bd3786"
            ],
            [
             0.5555555555555556,
             "#d8576b"
            ],
            [
             0.6666666666666666,
             "#ed7953"
            ],
            [
             0.7777777777777778,
             "#fb9f3a"
            ],
            [
             0.8888888888888888,
             "#fdca26"
            ],
            [
             1,
             "#f0f921"
            ]
           ]
          },
          "colorway": [
           "#636efa",
           "#EF553B",
           "#00cc96",
           "#ab63fa",
           "#FFA15A",
           "#19d3f3",
           "#FF6692",
           "#B6E880",
           "#FF97FF",
           "#FECB52"
          ],
          "font": {
           "color": "#2a3f5f"
          },
          "geo": {
           "bgcolor": "white",
           "lakecolor": "white",
           "landcolor": "#E5ECF6",
           "showlakes": true,
           "showland": true,
           "subunitcolor": "white"
          },
          "hoverlabel": {
           "align": "left"
          },
          "hovermode": "closest",
          "mapbox": {
           "style": "light"
          },
          "paper_bgcolor": "white",
          "plot_bgcolor": "#E5ECF6",
          "polar": {
           "angularaxis": {
            "gridcolor": "white",
            "linecolor": "white",
            "ticks": ""
           },
           "bgcolor": "#E5ECF6",
           "radialaxis": {
            "gridcolor": "white",
            "linecolor": "white",
            "ticks": ""
           }
          },
          "scene": {
           "xaxis": {
            "backgroundcolor": "#E5ECF6",
            "gridcolor": "white",
            "gridwidth": 2,
            "linecolor": "white",
            "showbackground": true,
            "ticks": "",
            "zerolinecolor": "white"
           },
           "yaxis": {
            "backgroundcolor": "#E5ECF6",
            "gridcolor": "white",
            "gridwidth": 2,
            "linecolor": "white",
            "showbackground": true,
            "ticks": "",
            "zerolinecolor": "white"
           },
           "zaxis": {
            "backgroundcolor": "#E5ECF6",
            "gridcolor": "white",
            "gridwidth": 2,
            "linecolor": "white",
            "showbackground": true,
            "ticks": "",
            "zerolinecolor": "white"
           }
          },
          "shapedefaults": {
           "line": {
            "color": "#2a3f5f"
           }
          },
          "ternary": {
           "aaxis": {
            "gridcolor": "white",
            "linecolor": "white",
            "ticks": ""
           },
           "baxis": {
            "gridcolor": "white",
            "linecolor": "white",
            "ticks": ""
           },
           "bgcolor": "#E5ECF6",
           "caxis": {
            "gridcolor": "white",
            "linecolor": "white",
            "ticks": ""
           }
          },
          "title": {
           "x": 0.05
          },
          "xaxis": {
           "automargin": true,
           "gridcolor": "white",
           "linecolor": "white",
           "ticks": "",
           "title": {
            "standoff": 15
           },
           "zerolinecolor": "white",
           "zerolinewidth": 2
          },
          "yaxis": {
           "automargin": true,
           "gridcolor": "white",
           "linecolor": "white",
           "ticks": "",
           "title": {
            "standoff": 15
           },
           "zerolinecolor": "white",
           "zerolinewidth": 2
          }
         }
        }
       }
      }
     },
     "metadata": {},
     "output_type": "display_data"
    }
   ],
   "source": [
    "ze.read_zdb()\n",
    "ze.zdb.del_dat_tree('td2@10835267')\n",
    "ze.zdb.del_dat_tree('ml1@10835267')\n",
    "ze.zdb.plot()"
   ]
  },
  {
   "cell_type": "code",
   "execution_count": 3,
   "metadata": {},
   "outputs": [
    {
     "data": {
      "text/html": [
       "<div>\n",
       "<style scoped>\n",
       "    .dataframe tbody tr th:only-of-type {\n",
       "        vertical-align: middle;\n",
       "    }\n",
       "\n",
       "    .dataframe tbody tr th {\n",
       "        vertical-align: top;\n",
       "    }\n",
       "\n",
       "    .dataframe thead th {\n",
       "        text-align: right;\n",
       "    }\n",
       "</style>\n",
       "<table border=\"1\" class=\"dataframe\">\n",
       "  <thead>\n",
       "    <tr style=\"text-align: right;\">\n",
       "      <th></th>\n",
       "      <th>at_conf</th>\n",
       "      <th>ab_init_code</th>\n",
       "      <th>ab_init_theo</th>\n",
       "    </tr>\n",
       "    <tr>\n",
       "      <th>tag</th>\n",
       "      <th></th>\n",
       "      <th></th>\n",
       "      <th></th>\n",
       "    </tr>\n",
       "  </thead>\n",
       "  <tbody>\n",
       "    <tr>\n",
       "      <th>td1@10835267</th>\n",
       "      <td>ac1@10835267</td>\n",
       "      <td>CASTEP</td>\n",
       "      <td>PBE-D2</td>\n",
       "    </tr>\n",
       "    <tr>\n",
       "      <th>td1@10890165</th>\n",
       "      <td>ac1@10835267</td>\n",
       "      <td>CASTEP (ASE+LAMMPS)</td>\n",
       "      <td>PBE-D2 (-fixed charge baseline)</td>\n",
       "    </tr>\n",
       "  </tbody>\n",
       "</table>\n",
       "</div>"
      ],
      "text/plain": [
       "                   at_conf         ab_init_code  \\\n",
       "tag                                               \n",
       "td1@10835267  ac1@10835267               CASTEP   \n",
       "td1@10890165  ac1@10835267  CASTEP (ASE+LAMMPS)   \n",
       "\n",
       "                                 ab_init_theo  \n",
       "tag                                            \n",
       "td1@10835267                           PBE-D2  \n",
       "td1@10890165  PBE-D2 (-fixed charge baseline)  "
      ]
     },
     "execution_count": 3,
     "metadata": {},
     "output_type": "execute_result"
    }
   ],
   "source": [
    "ze.zdb.to_pd('TrainData')"
   ]
  },
  {
   "cell_type": "code",
   "execution_count": 4,
   "metadata": {},
   "outputs": [
    {
     "data": {
      "text/html": [
       "<div>\n",
       "<style scoped>\n",
       "    .dataframe tbody tr th:only-of-type {\n",
       "        vertical-align: middle;\n",
       "    }\n",
       "\n",
       "    .dataframe tbody tr th {\n",
       "        vertical-align: top;\n",
       "    }\n",
       "\n",
       "    .dataframe thead th {\n",
       "        text-align: right;\n",
       "    }\n",
       "</style>\n",
       "<table border=\"1\" class=\"dataframe\">\n",
       "  <thead>\n",
       "    <tr style=\"text-align: right;\">\n",
       "      <th></th>\n",
       "      <th>tr_data</th>\n",
       "      <th>ml_code</th>\n",
       "      <th>ml_settings</th>\n",
       "      <th>fit_prop</th>\n",
       "    </tr>\n",
       "    <tr>\n",
       "      <th>tag</th>\n",
       "      <th></th>\n",
       "      <th></th>\n",
       "      <th></th>\n",
       "      <th></th>\n",
       "    </tr>\n",
       "  </thead>\n",
       "  <tbody>\n",
       "    <tr>\n",
       "      <th>ml2@10835267</th>\n",
       "      <td>td1@10835267</td>\n",
       "      <td>GAP</td>\n",
       "      <td>DTS, Rcut 3/6</td>\n",
       "      <td>energy, forces, virial</td>\n",
       "    </tr>\n",
       "    <tr>\n",
       "      <th>ml1@10890165</th>\n",
       "      <td>td1@10835267</td>\n",
       "      <td>GAP</td>\n",
       "      <td>DTS, Rcut 3/6 (seeds 1,2,3)</td>\n",
       "      <td>energy, forces, virial</td>\n",
       "    </tr>\n",
       "    <tr>\n",
       "      <th>ml2@10890165</th>\n",
       "      <td>td1@10890165</td>\n",
       "      <td>GAP</td>\n",
       "      <td>DTS, Rcut 3/6</td>\n",
       "      <td>energy, forces, virial</td>\n",
       "    </tr>\n",
       "    <tr>\n",
       "      <th>ml3@10890165</th>\n",
       "      <td>td1@10835267</td>\n",
       "      <td>MACE</td>\n",
       "      <td>Layers 2, Rcut 4+4</td>\n",
       "      <td>energy, forces, virial</td>\n",
       "    </tr>\n",
       "    <tr>\n",
       "      <th>ml4@10890165</th>\n",
       "      <td>td1@10835267</td>\n",
       "      <td>MACE</td>\n",
       "      <td>Layers 2, Rcut 6+6</td>\n",
       "      <td>energy, forces, virial</td>\n",
       "    </tr>\n",
       "  </tbody>\n",
       "</table>\n",
       "</div>"
      ],
      "text/plain": [
       "                   tr_data ml_code                  ml_settings  \\\n",
       "tag                                                               \n",
       "ml2@10835267  td1@10835267     GAP                DTS, Rcut 3/6   \n",
       "ml1@10890165  td1@10835267     GAP  DTS, Rcut 3/6 (seeds 1,2,3)   \n",
       "ml2@10890165  td1@10890165     GAP                DTS, Rcut 3/6   \n",
       "ml3@10890165  td1@10835267    MACE           Layers 2, Rcut 4+4   \n",
       "ml4@10890165  td1@10835267    MACE           Layers 2, Rcut 6+6   \n",
       "\n",
       "                            fit_prop  \n",
       "tag                                   \n",
       "ml2@10835267  energy, forces, virial  \n",
       "ml1@10890165  energy, forces, virial  \n",
       "ml2@10890165  energy, forces, virial  \n",
       "ml3@10890165  energy, forces, virial  \n",
       "ml4@10890165  energy, forces, virial  "
      ]
     },
     "execution_count": 4,
     "metadata": {},
     "output_type": "execute_result"
    }
   ],
   "source": [
    "ze.zdb.to_pd('MLIPs')"
   ]
  },
  {
   "cell_type": "code",
   "execution_count": 5,
   "metadata": {},
   "outputs": [
    {
     "data": {
      "text/html": [
       "<div>\n",
       "<style scoped>\n",
       "    .dataframe tbody tr th:only-of-type {\n",
       "        vertical-align: middle;\n",
       "    }\n",
       "\n",
       "    .dataframe tbody tr th {\n",
       "        vertical-align: top;\n",
       "    }\n",
       "\n",
       "    .dataframe thead th {\n",
       "        text-align: right;\n",
       "    }\n",
       "</style>\n",
       "<table border=\"1\" class=\"dataframe\">\n",
       "  <thead>\n",
       "    <tr style=\"text-align: right;\">\n",
       "      <th></th>\n",
       "      <th>pes_model</th>\n",
       "      <th>md_code</th>\n",
       "      <th>md_system</th>\n",
       "      <th>md_no_at</th>\n",
       "      <th>md_ensmb</th>\n",
       "      <th>md_step</th>\n",
       "      <th>md_len</th>\n",
       "      <th>md_temp</th>\n",
       "      <th>md_pres</th>\n",
       "    </tr>\n",
       "    <tr>\n",
       "      <th>tag</th>\n",
       "      <th></th>\n",
       "      <th></th>\n",
       "      <th></th>\n",
       "      <th></th>\n",
       "      <th></th>\n",
       "      <th></th>\n",
       "      <th></th>\n",
       "      <th></th>\n",
       "      <th></th>\n",
       "    </tr>\n",
       "  </thead>\n",
       "  <tbody>\n",
       "    <tr>\n",
       "      <th>md1@10890165</th>\n",
       "      <td>ml2@10835267</td>\n",
       "      <td>LAMMPS</td>\n",
       "      <td>33% EC:EMC (seeds 1,2,3)</td>\n",
       "      <td>640</td>\n",
       "      <td>NPT, NVT</td>\n",
       "      <td>1.0 fs</td>\n",
       "      <td>0.6 ns</td>\n",
       "      <td>500 K</td>\n",
       "      <td>1 atm</td>\n",
       "    </tr>\n",
       "    <tr>\n",
       "      <th>md2@10890165</th>\n",
       "      <td>ml1@10890165</td>\n",
       "      <td>LAMMPS</td>\n",
       "      <td>33% EC:EMC</td>\n",
       "      <td>640</td>\n",
       "      <td>NPT, NVT</td>\n",
       "      <td>1.0 fs</td>\n",
       "      <td>0.6 ns</td>\n",
       "      <td>500 K</td>\n",
       "      <td>1 atm</td>\n",
       "    </tr>\n",
       "    <tr>\n",
       "      <th>md3@10890165</th>\n",
       "      <td>ml2@10890165</td>\n",
       "      <td>LAMMPS</td>\n",
       "      <td>33% EC:EMC (seeds 1,2,3)</td>\n",
       "      <td>640</td>\n",
       "      <td>NPT, NVT</td>\n",
       "      <td>1.0 fs</td>\n",
       "      <td>1.0 ns</td>\n",
       "      <td>500 K</td>\n",
       "      <td>1 atm</td>\n",
       "    </tr>\n",
       "    <tr>\n",
       "      <th>md4@10890165</th>\n",
       "      <td>ml4@10890165</td>\n",
       "      <td>LAMMPS</td>\n",
       "      <td>33% EC:EMC</td>\n",
       "      <td>640</td>\n",
       "      <td>NPT, NVT</td>\n",
       "      <td>1.0 fs</td>\n",
       "      <td>0.5 ns</td>\n",
       "      <td>500 K</td>\n",
       "      <td>1 atm</td>\n",
       "    </tr>\n",
       "    <tr>\n",
       "      <th>md5@10890165</th>\n",
       "      <td>ml3@10890165</td>\n",
       "      <td>LAMMPS</td>\n",
       "      <td>33% EC:EMC</td>\n",
       "      <td>640</td>\n",
       "      <td>NPT, NVT</td>\n",
       "      <td>1.0 fs</td>\n",
       "      <td>0.9 ns</td>\n",
       "      <td>500 K</td>\n",
       "      <td>1 atm</td>\n",
       "    </tr>\n",
       "    <tr>\n",
       "      <th>md6@10890165</th>\n",
       "      <td>ml3@10890165</td>\n",
       "      <td>ASE</td>\n",
       "      <td>33% EC:EMC (seeds 1,2,3)</td>\n",
       "      <td>640</td>\n",
       "      <td>NPT, NVT</td>\n",
       "      <td>1.0 fs</td>\n",
       "      <td>0.9 ns</td>\n",
       "      <td>500 K</td>\n",
       "      <td>1 atm</td>\n",
       "    </tr>\n",
       "  </tbody>\n",
       "</table>\n",
       "</div>"
      ],
      "text/plain": [
       "                 pes_model md_code                 md_system  md_no_at  \\\n",
       "tag                                                                      \n",
       "md1@10890165  ml2@10835267  LAMMPS  33% EC:EMC (seeds 1,2,3)       640   \n",
       "md2@10890165  ml1@10890165  LAMMPS                33% EC:EMC       640   \n",
       "md3@10890165  ml2@10890165  LAMMPS  33% EC:EMC (seeds 1,2,3)       640   \n",
       "md4@10890165  ml4@10890165  LAMMPS                33% EC:EMC       640   \n",
       "md5@10890165  ml3@10890165  LAMMPS                33% EC:EMC       640   \n",
       "md6@10890165  ml3@10890165     ASE  33% EC:EMC (seeds 1,2,3)       640   \n",
       "\n",
       "              md_ensmb md_step  md_len md_temp md_pres  \n",
       "tag                                                     \n",
       "md1@10890165  NPT, NVT  1.0 fs  0.6 ns   500 K   1 atm  \n",
       "md2@10890165  NPT, NVT  1.0 fs  0.6 ns   500 K   1 atm  \n",
       "md3@10890165  NPT, NVT  1.0 fs  1.0 ns   500 K   1 atm  \n",
       "md4@10890165  NPT, NVT  1.0 fs  0.5 ns   500 K   1 atm  \n",
       "md5@10890165  NPT, NVT  1.0 fs  0.9 ns   500 K   1 atm  \n",
       "md6@10890165  NPT, NVT  1.0 fs  0.9 ns   500 K   1 atm  "
      ]
     },
     "execution_count": 5,
     "metadata": {},
     "output_type": "execute_result"
    }
   ],
   "source": [
    "ze.zdb.to_pd('MDSims')"
   ]
  },
  {
   "cell_type": "code",
   "execution_count": 6,
   "metadata": {},
   "outputs": [],
   "source": [
    "import os\n",
    "import glob\n",
    "import numpy as np\n",
    "from aseMolec import pltProps as pp\n",
    "\n",
    "def get_all_thermo(fbase):\n",
    "    dat = {}\n",
    "    flist = np.sort(glob.glob('.cache/'+fbase+'/*.thermo'))\n",
    "    for f in flist:\n",
    "        aux = os.path.basename(f)\n",
    "        key = os.path.splitext(aux)[0]\n",
    "        dat.update({key: pp.loadtxttag(f)})\n",
    "    return dat\n",
    "\n",
    "dat1 = get_all_thermo('10712131/MDSims_1000Atoms_05fs_MACE_SD22NQ_wB97X')\n",
    "dat2 = get_all_thermo('10712131/MDSims_1000Atoms_1fs_MACE_IBM23_B97')\n",
    "dat3 = get_all_thermo('10712131/MDSims_1000Atoms_1fs_MACE_SD22NQ_B97')\n",
    "dat4 = get_all_thermo('10835267/MDSims_1000Atoms_1000ps_300K_NPT_Gen16DTS_PBED3')\n",
    "\n",
    "pp.rename_key(dat4, 'TimeStep', 'Time')\n",
    "pp.rename_key(dat4, 'v_mdensity', 'Density')\n",
    "pp.rename_key(dat4, 'c_compMSD[4]', 'MSD')\n",
    "\n",
    "pp.convert_units(dat1, 'Time', 'ps', 0.001)\n",
    "pp.convert_units(dat2, 'Time', 'ps', 0.001)\n",
    "pp.convert_units(dat3, 'Time', 'ps', 0.001)\n",
    "pp.convert_units(dat4, 'Time', 'ps', 0.001)\n",
    "\n",
    "def_cols = ['tab:red', 'tab:orange', 'tab:green', 'tab:blue']\n",
    "pp.convert_units(dat4, 'Density', 'g/cm$^3$', 1.0)\n",
    "pp.convert_units(dat4, 'MSD', 'A$^2$', 1.0)\n"
   ]
  },
  {
   "cell_type": "markdown",
   "metadata": {},
   "source": [
    "# Compare MD trajectories"
   ]
  },
  {
   "cell_type": "code",
   "execution_count": 7,
   "metadata": {},
   "outputs": [
    {
     "data": {
      "text/plain": [
       "<matplotlib.legend.Legend at 0x7fc474a4ff40>"
      ]
     },
     "execution_count": 7,
     "metadata": {},
     "output_type": "execute_result"
    },
    {
     "data": {
      "image/png": "[encoded data removed]",
      "text/plain": [
       "<Figure size 3200x1600 with 8 Axes>"
      ]
     },
     "metadata": {},
     "output_type": "display_data"
    }
   ],
   "source": [
    "from matplotlib import pyplot as plt\n",
    "from aseMolec import pltProps as pp\n",
    "import ase.units\n",
    "densfact = (ase.units.m/1.0e2)**3/ase.units.mol\n",
    "\n",
    "fig, axes = plt.subplot_mosaic(mosaic='ABCD;EFGH', figsize=(16,8), dpi=200, layout='constrained')\n",
    "\n",
    "# Density\n",
    "\n",
    "plt.sca(axes['A'])\n",
    "for i, k in enumerate(dat4):\n",
    "    pp.simpleplot(dat4[k], 3, 4, color=def_cols[i])\n",
    "plt.xlim([0,1000])\n",
    "plt.ylim([0.85,1.4])\n",
    "plt.title('GAP_IBM23_PBE')\n",
    "\n",
    "plt.sca(axes['B'])\n",
    "for k in dat1:\n",
    "    pp.simpleplot(dat1[k], 0, 2)\n",
    "plt.xlim([0,1000])\n",
    "plt.ylim([0.85,1.4])\n",
    "plt.title('MACE_SD22NQ_wB97X')\n",
    "\n",
    "plt.sca(axes['C'])\n",
    "for k in dat2:\n",
    "    pp.simpleplot(dat2[k], 0, 2)\n",
    "plt.xlim([0,1000])\n",
    "plt.ylim([0.85,1.4])\n",
    "plt.title('MACE_IBM23_B97')\n",
    "\n",
    "plt.sca(axes['D'])\n",
    "for k in dat3:\n",
    "    pp.simpleplot(dat3[k], 0, 2)\n",
    "plt.xlim([0,1000])\n",
    "plt.ylim([0.85,1.4])\n",
    "plt.title('MACE_SD22NQ_B97')\n",
    "\n",
    "# Diffusivity\n",
    "\n",
    "plt.sca(axes['E'])\n",
    "for i, k in enumerate(dat4):\n",
    "    pp.simpleplot(dat4[k], 3, 5, color=def_cols[i])\n",
    "plt.xlim([0,1000])\n",
    "plt.ylim([0,1300])\n",
    "\n",
    "plt.sca(axes['F'])\n",
    "for k in dat1:\n",
    "    pp.simpleplot(dat1[k], 0, 5)\n",
    "plt.xlim([0,1000])\n",
    "plt.ylim([0,1300])\n",
    "\n",
    "plt.sca(axes['G'])\n",
    "for k in dat2:\n",
    "    pp.simpleplot(dat2[k], 0, 5)\n",
    "plt.xlim([0,1000])\n",
    "plt.ylim([0,1300])\n",
    "\n",
    "plt.sca(axes['H'])\n",
    "for k in dat3:\n",
    "    pp.simpleplot(dat3[k], 0, 5)\n",
    "plt.xlim([0,1000])\n",
    "plt.ylim([0,1300])\n",
    "\n",
    "plt.legend(['298K EMC', '298K EC:EMC (3:7)', '298K EC:EMC (7:3)', '313K EC'], handlelength=1, loc='upper left', borderaxespad=0.2)\n"
   ]
  }
 ],
 "metadata": {
  "kernelspec": {
   "display_name": "mace_env",
   "language": "python",
   "name": "python3"
  },
  "language_info": {
   "codemirror_mode": {
    "name": "ipython",
    "version": 3
   },
   "file_extension": ".py",
   "mimetype": "text/x-python",
   "name": "python",
   "nbconvert_exporter": "python",
   "pygments_lexer": "ipython3",
   "version": "3.10.13"
  }
 },
 "nbformat": 4,
 "nbformat_minor": 2
}
